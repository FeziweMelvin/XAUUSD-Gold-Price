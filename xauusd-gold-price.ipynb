{
 "cells": [
  {
   "cell_type": "markdown",
   "id": "6126f0a4",
   "metadata": {
    "papermill": {
     "duration": 0.003372,
     "end_time": "2025-06-13T04:27:36.996579",
     "exception": false,
     "start_time": "2025-06-13T04:27:36.993207",
     "status": "completed"
    },
    "tags": []
   },
   "source": [
    "بسم الله"
   ]
  },
  {
   "cell_type": "code",
   "execution_count": 1,
   "id": "f886f7f5",
   "metadata": {
    "execution": {
     "iopub.execute_input": "2025-06-13T04:27:37.004315Z",
     "iopub.status.busy": "2025-06-13T04:27:37.003871Z",
     "iopub.status.idle": "2025-06-13T04:27:43.631449Z",
     "shell.execute_reply": "2025-06-13T04:27:43.630470Z"
    },
    "papermill": {
     "duration": 6.633248,
     "end_time": "2025-06-13T04:27:43.633284",
     "exception": false,
     "start_time": "2025-06-13T04:27:37.000036",
     "status": "completed"
    },
    "tags": []
   },
   "outputs": [],
   "source": [
    "import pandas as pd\n",
    "import numpy as np\n",
    "import seaborn as sns\n",
    "import matplotlib.pyplot as plt\n",
    "from sklearn.preprocessing import LabelEncoder\n",
    "from sklearn.neighbors import KNeighborsRegressor\n",
    "from sklearn.metrics import mean_squared_error, r2_score\n",
    "from sklearn.linear_model import LinearRegression\n",
    "import xgboost as xgb\n",
    "from tabulate import tabulate\n",
    "\n",
    "# إعدادات العرض\n",
    "sns.set(style='whitegrid', palette='muted', color_codes=True)\n",
    "\n",
    "# النمذجة التنبؤية\n",
    "from sklearn.model_selection import train_test_split\n",
    "from sklearn.linear_model import LogisticRegression\n",
    "from sklearn.metrics import accuracy_score, confusion_matrix, classification_report, roc_curve, auc\n",
    "from sklearn.ensemble import RandomForestClassifier\n",
    "from sklearn.inspection import permutation_importance\n",
    "\n",
    "# تثبيت العشوائية\n",
    "import random\n",
    "random.seed(42)\n",
    "np.random.seed(42)\n",
    "\n",
    "# مكتبة الإحصاء والتحذيرات\n",
    "import scipy.stats as stats\n",
    "import warnings\n",
    "warnings.filterwarnings('ignore')\n",
    "import matplotlib\n",
    "matplotlib.use('Agg')  # Use Agg backend for matplotlib\n",
    "import matplotlib.pyplot as plt\n",
    "%matplotlib inline\n",
    "\n",
    "import seaborn as sns\n",
    "\n",
    "# For predictive modeling\n",
    "from sklearn.model_selection import train_test_split\n",
    "from sklearn.linear_model import LinearRegression\n",
    "from sklearn.metrics import r2_score\n",
    "\n",
    "# Set the plot style\n",
    "sns.set(style='whitegrid')"
   ]
  },
  {
   "cell_type": "code",
   "execution_count": 2,
   "id": "13461330",
   "metadata": {
    "execution": {
     "iopub.execute_input": "2025-06-13T04:27:43.640879Z",
     "iopub.status.busy": "2025-06-13T04:27:43.640417Z",
     "iopub.status.idle": "2025-06-13T04:27:43.685063Z",
     "shell.execute_reply": "2025-06-13T04:27:43.683734Z"
    },
    "papermill": {
     "duration": 0.050648,
     "end_time": "2025-06-13T04:27:43.687021",
     "exception": false,
     "start_time": "2025-06-13T04:27:43.636373",
     "status": "completed"
    },
    "tags": []
   },
   "outputs": [],
   "source": [
    "df = pd.read_csv('/kaggle/input/xauusd-gold-price-historical-data-2004present/XAU_1d_data.csv')"
   ]
  },
  {
   "cell_type": "code",
   "execution_count": 3,
   "id": "1531d47f",
   "metadata": {
    "execution": {
     "iopub.execute_input": "2025-06-13T04:27:43.694657Z",
     "iopub.status.busy": "2025-06-13T04:27:43.693614Z",
     "iopub.status.idle": "2025-06-13T04:27:43.711014Z",
     "shell.execute_reply": "2025-06-13T04:27:43.709676Z"
    },
    "papermill": {
     "duration": 0.022901,
     "end_time": "2025-06-13T04:27:43.712805",
     "exception": false,
     "start_time": "2025-06-13T04:27:43.689904",
     "status": "completed"
    },
    "tags": []
   },
   "outputs": [
    {
     "name": "stdout",
     "output_type": "stream",
     "text": [
      "Dataset preview:\n",
      "                 Date;Open;High;Low;Close;Volume\n",
      "0     2004.06.11 00:00;384;384.8;382.8;384.1;272\n",
      "1  2004.06.14 00:00;384.3;385.8;381.8;382.8;1902\n",
      "2  2004.06.15 00:00;382.8;388.8;381.1;388.6;1951\n",
      "3  2004.06.16 00:00;387.1;389.8;382.6;383.8;2014\n",
      "4    2004.06.17 00:00;383.6;389.3;383;387.6;1568\n"
     ]
    }
   ],
   "source": [
    "# Preview data\n",
    "print(\"Dataset preview:\")\n",
    "print(df.head())"
   ]
  },
  {
   "cell_type": "code",
   "execution_count": 4,
   "id": "147b68a4",
   "metadata": {
    "execution": {
     "iopub.execute_input": "2025-06-13T04:27:43.719790Z",
     "iopub.status.busy": "2025-06-13T04:27:43.719482Z",
     "iopub.status.idle": "2025-06-13T04:27:43.736981Z",
     "shell.execute_reply": "2025-06-13T04:27:43.736049Z"
    },
    "papermill": {
     "duration": 0.023095,
     "end_time": "2025-06-13T04:27:43.738879",
     "exception": false,
     "start_time": "2025-06-13T04:27:43.715784",
     "status": "completed"
    },
    "tags": []
   },
   "outputs": [
    {
     "data": {
      "text/html": [
       "<div>\n",
       "<style scoped>\n",
       "    .dataframe tbody tr th:only-of-type {\n",
       "        vertical-align: middle;\n",
       "    }\n",
       "\n",
       "    .dataframe tbody tr th {\n",
       "        vertical-align: top;\n",
       "    }\n",
       "\n",
       "    .dataframe thead th {\n",
       "        text-align: right;\n",
       "    }\n",
       "</style>\n",
       "<table border=\"1\" class=\"dataframe\">\n",
       "  <thead>\n",
       "    <tr style=\"text-align: right;\">\n",
       "      <th></th>\n",
       "      <th>Date;Open;High;Low;Close;Volume</th>\n",
       "    </tr>\n",
       "  </thead>\n",
       "  <tbody>\n",
       "    <tr>\n",
       "      <th>5386</th>\n",
       "      <td>2025.06.02 00:00;3298.76;3382.86;3295.75;3380....</td>\n",
       "    </tr>\n",
       "    <tr>\n",
       "      <th>5387</th>\n",
       "      <td>2025.06.03 00:00;3383.51;3392.19;3333.08;3352....</td>\n",
       "    </tr>\n",
       "    <tr>\n",
       "      <th>5388</th>\n",
       "      <td>2025.06.04 00:00;3353.93;3384.64;3343.67;3372....</td>\n",
       "    </tr>\n",
       "    <tr>\n",
       "      <th>5389</th>\n",
       "      <td>2025.06.05 00:00;3373.34;3403.42;3339.43;3351....</td>\n",
       "    </tr>\n",
       "    <tr>\n",
       "      <th>5390</th>\n",
       "      <td>2025.06.06 00:00;3353.55;3369.26;3353;3368.94;...</td>\n",
       "    </tr>\n",
       "  </tbody>\n",
       "</table>\n",
       "</div>"
      ],
      "text/plain": [
       "                        Date;Open;High;Low;Close;Volume\n",
       "5386  2025.06.02 00:00;3298.76;3382.86;3295.75;3380....\n",
       "5387  2025.06.03 00:00;3383.51;3392.19;3333.08;3352....\n",
       "5388  2025.06.04 00:00;3353.93;3384.64;3343.67;3372....\n",
       "5389  2025.06.05 00:00;3373.34;3403.42;3339.43;3351....\n",
       "5390  2025.06.06 00:00;3353.55;3369.26;3353;3368.94;..."
      ]
     },
     "execution_count": 4,
     "metadata": {},
     "output_type": "execute_result"
    }
   ],
   "source": [
    "df.tail()\n"
   ]
  },
  {
   "cell_type": "code",
   "execution_count": 5,
   "id": "7a8dea55",
   "metadata": {
    "execution": {
     "iopub.execute_input": "2025-06-13T04:27:43.746429Z",
     "iopub.status.busy": "2025-06-13T04:27:43.746071Z",
     "iopub.status.idle": "2025-06-13T04:27:43.752207Z",
     "shell.execute_reply": "2025-06-13T04:27:43.751071Z"
    },
    "papermill": {
     "duration": 0.011733,
     "end_time": "2025-06-13T04:27:43.753833",
     "exception": false,
     "start_time": "2025-06-13T04:27:43.742100",
     "status": "completed"
    },
    "tags": []
   },
   "outputs": [
    {
     "data": {
      "text/plain": [
       "(5391, 1)"
      ]
     },
     "execution_count": 5,
     "metadata": {},
     "output_type": "execute_result"
    }
   ],
   "source": [
    "df.shape\n"
   ]
  },
  {
   "cell_type": "code",
   "execution_count": 6,
   "id": "7ba8648c",
   "metadata": {
    "execution": {
     "iopub.execute_input": "2025-06-13T04:27:43.761464Z",
     "iopub.status.busy": "2025-06-13T04:27:43.761151Z",
     "iopub.status.idle": "2025-06-13T04:27:43.769292Z",
     "shell.execute_reply": "2025-06-13T04:27:43.768186Z"
    },
    "papermill": {
     "duration": 0.013669,
     "end_time": "2025-06-13T04:27:43.770764",
     "exception": false,
     "start_time": "2025-06-13T04:27:43.757095",
     "status": "completed"
    },
    "tags": []
   },
   "outputs": [
    {
     "data": {
      "text/plain": [
       "Date;Open;High;Low;Close;Volume    0\n",
       "dtype: int64"
      ]
     },
     "execution_count": 6,
     "metadata": {},
     "output_type": "execute_result"
    }
   ],
   "source": [
    "df.isnull().sum()\n"
   ]
  },
  {
   "cell_type": "code",
   "execution_count": 7,
   "id": "e488d278",
   "metadata": {
    "execution": {
     "iopub.execute_input": "2025-06-13T04:27:43.778101Z",
     "iopub.status.busy": "2025-06-13T04:27:43.777780Z",
     "iopub.status.idle": "2025-06-13T04:27:43.792261Z",
     "shell.execute_reply": "2025-06-13T04:27:43.791027Z"
    },
    "papermill": {
     "duration": 0.020335,
     "end_time": "2025-06-13T04:27:43.794199",
     "exception": false,
     "start_time": "2025-06-13T04:27:43.773864",
     "status": "completed"
    },
    "tags": []
   },
   "outputs": [
    {
     "data": {
      "text/plain": [
       "0"
      ]
     },
     "execution_count": 7,
     "metadata": {},
     "output_type": "execute_result"
    }
   ],
   "source": [
    "df.duplicated().sum()\n"
   ]
  },
  {
   "cell_type": "code",
   "execution_count": 8,
   "id": "08307b0c",
   "metadata": {
    "execution": {
     "iopub.execute_input": "2025-06-13T04:27:43.802394Z",
     "iopub.status.busy": "2025-06-13T04:27:43.802087Z",
     "iopub.status.idle": "2025-06-13T04:27:44.229653Z",
     "shell.execute_reply": "2025-06-13T04:27:44.228515Z"
    },
    "papermill": {
     "duration": 0.433932,
     "end_time": "2025-06-13T04:27:44.231434",
     "exception": false,
     "start_time": "2025-06-13T04:27:43.797502",
     "status": "completed"
    },
    "tags": []
   },
   "outputs": [
    {
     "data": {
      "text/plain": [
       "<Axes: >"
      ]
     },
     "execution_count": 8,
     "metadata": {},
     "output_type": "execute_result"
    },
    {
     "data": {
      "image/png": "[encoded data removed]",
      "text/plain": [
       "<Figure size 640x480 with 1 Axes>"
      ]
     },
     "metadata": {},
     "output_type": "display_data"
    }
   ],
   "source": [
    "df.describe().T.plot(kind='bar')\n"
   ]
  },
  {
   "cell_type": "code",
   "execution_count": 9,
   "id": "da28ae1b",
   "metadata": {
    "execution": {
     "iopub.execute_input": "2025-06-13T04:27:44.240611Z",
     "iopub.status.busy": "2025-06-13T04:27:44.239822Z",
     "iopub.status.idle": "2025-06-13T04:27:44.246159Z",
     "shell.execute_reply": "2025-06-13T04:27:44.245014Z"
    },
    "papermill": {
     "duration": 0.012614,
     "end_time": "2025-06-13T04:27:44.247789",
     "exception": false,
     "start_time": "2025-06-13T04:27:44.235175",
     "status": "completed"
    },
    "tags": []
   },
   "outputs": [],
   "source": [
    "numeric_cols = df.select_dtypes(include=['number']).columns\n",
    "\n",
    "# رسم التوزيع لكل عمود رقمي\n",
    "for col in numeric_cols:\n",
    "    sns.histplot(x=col, data=df, kde=True)\n",
    "    plt.show()"
   ]
  },
  {
   "cell_type": "code",
   "execution_count": 10,
   "id": "c2c51396",
   "metadata": {
    "execution": {
     "iopub.execute_input": "2025-06-13T04:27:44.257832Z",
     "iopub.status.busy": "2025-06-13T04:27:44.257540Z",
     "iopub.status.idle": "2025-06-13T04:27:44.271021Z",
     "shell.execute_reply": "2025-06-13T04:27:44.269868Z"
    },
    "papermill": {
     "duration": 0.020422,
     "end_time": "2025-06-13T04:27:44.272909",
     "exception": false,
     "start_time": "2025-06-13T04:27:44.252487",
     "status": "completed"
    },
    "tags": []
   },
   "outputs": [
    {
     "data": {
      "text/html": [
       "<div>\n",
       "<style scoped>\n",
       "    .dataframe tbody tr th:only-of-type {\n",
       "        vertical-align: middle;\n",
       "    }\n",
       "\n",
       "    .dataframe tbody tr th {\n",
       "        vertical-align: top;\n",
       "    }\n",
       "\n",
       "    .dataframe thead th {\n",
       "        text-align: right;\n",
       "    }\n",
       "</style>\n",
       "<table border=\"1\" class=\"dataframe\">\n",
       "  <thead>\n",
       "    <tr style=\"text-align: right;\">\n",
       "      <th></th>\n",
       "      <th>Date;Open;High;Low;Close;Volume</th>\n",
       "    </tr>\n",
       "  </thead>\n",
       "  <tbody>\n",
       "    <tr>\n",
       "      <th>0</th>\n",
       "      <td>2004.06.11 00:00;384;384.8;382.8;384.1;272</td>\n",
       "    </tr>\n",
       "    <tr>\n",
       "      <th>1</th>\n",
       "      <td>2004.06.14 00:00;384.3;385.8;381.8;382.8;1902</td>\n",
       "    </tr>\n",
       "    <tr>\n",
       "      <th>2</th>\n",
       "      <td>2004.06.15 00:00;382.8;388.8;381.1;388.6;1951</td>\n",
       "    </tr>\n",
       "    <tr>\n",
       "      <th>3</th>\n",
       "      <td>2004.06.16 00:00;387.1;389.8;382.6;383.8;2014</td>\n",
       "    </tr>\n",
       "    <tr>\n",
       "      <th>4</th>\n",
       "      <td>2004.06.17 00:00;383.6;389.3;383;387.6;1568</td>\n",
       "    </tr>\n",
       "    <tr>\n",
       "      <th>...</th>\n",
       "      <td>...</td>\n",
       "    </tr>\n",
       "    <tr>\n",
       "      <th>5386</th>\n",
       "      <td>2025.06.02 00:00;3298.76;3382.86;3295.75;3380....</td>\n",
       "    </tr>\n",
       "    <tr>\n",
       "      <th>5387</th>\n",
       "      <td>2025.06.03 00:00;3383.51;3392.19;3333.08;3352....</td>\n",
       "    </tr>\n",
       "    <tr>\n",
       "      <th>5388</th>\n",
       "      <td>2025.06.04 00:00;3353.93;3384.64;3343.67;3372....</td>\n",
       "    </tr>\n",
       "    <tr>\n",
       "      <th>5389</th>\n",
       "      <td>2025.06.05 00:00;3373.34;3403.42;3339.43;3351....</td>\n",
       "    </tr>\n",
       "    <tr>\n",
       "      <th>5390</th>\n",
       "      <td>2025.06.06 00:00;3353.55;3369.26;3353;3368.94;...</td>\n",
       "    </tr>\n",
       "  </tbody>\n",
       "</table>\n",
       "<p>5391 rows × 1 columns</p>\n",
       "</div>"
      ],
      "text/plain": [
       "                        Date;Open;High;Low;Close;Volume\n",
       "0            2004.06.11 00:00;384;384.8;382.8;384.1;272\n",
       "1         2004.06.14 00:00;384.3;385.8;381.8;382.8;1902\n",
       "2         2004.06.15 00:00;382.8;388.8;381.1;388.6;1951\n",
       "3         2004.06.16 00:00;387.1;389.8;382.6;383.8;2014\n",
       "4           2004.06.17 00:00;383.6;389.3;383;387.6;1568\n",
       "...                                                 ...\n",
       "5386  2025.06.02 00:00;3298.76;3382.86;3295.75;3380....\n",
       "5387  2025.06.03 00:00;3383.51;3392.19;3333.08;3352....\n",
       "5388  2025.06.04 00:00;3353.93;3384.64;3343.67;3372....\n",
       "5389  2025.06.05 00:00;3373.34;3403.42;3339.43;3351....\n",
       "5390  2025.06.06 00:00;3353.55;3369.26;3353;3368.94;...\n",
       "\n",
       "[5391 rows x 1 columns]"
      ]
     },
     "execution_count": 10,
     "metadata": {},
     "output_type": "execute_result"
    }
   ],
   "source": [
    "df"
   ]
  }
 ],
 "metadata": {
  "kaggle": {
   "accelerator": "none",
   "dataSources": [
    {
     "datasetId": 7601466,
     "sourceId": 12080818,
     "sourceType": "datasetVersion"
    }
   ],
   "dockerImageVersionId": 31040,
   "isGpuEnabled": false,
   "isInternetEnabled": true,
   "language": "python",
   "sourceType": "notebook"
  },
  "kernelspec": {
   "display_name": "Python 3",
   "language": "python",
   "name": "python3"
  },
  "language_info": {
   "codemirror_mode": {
    "name": "ipython",
    "version": 3
   },
   "file_extension": ".py",
   "mimetype": "text/x-python",
   "name": "python",
   "nbconvert_exporter": "python",
   "pygments_lexer": "ipython3",
   "version": "3.11.11"
  },
  "papermill": {
   "default_parameters": {},
   "duration": 13.732492,
   "end_time": "2025-06-13T04:27:45.098776",
   "environment_variables": {},
   "exception": null,
   "input_path": "__notebook__.ipynb",
   "output_path": "__notebook__.ipynb",
   "parameters": {},
   "start_time": "2025-06-13T04:27:31.366284",
   "version": "2.6.0"
  }
 },
 "nbformat": 4,
 "nbformat_minor": 5
}
